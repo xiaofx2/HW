{
 "cells": [
  {
   "cell_type": "markdown",
   "metadata": {},
   "source": [
    "<center>Summary"
   ]
  },
  {
   "cell_type": "markdown",
   "metadata": {},
   "source": [
    "[Article: Data-Driven Molecular Engineering of Solar-Powered Windows](https://ieeexplore.ieee.org/abstract/document/8291776)"
   ]
  },
  {
   "cell_type": "markdown",
   "metadata": {},
   "source": [
    "   \"Smart windows\" that generate electricity from sunlight sustainably require the discovery of new types of dye molecules for a boost in photovoltaic performance. \n",
    "   \n",
    "   The first step in this dye discovery is to produce a huge amount of dye molecules dataset inculding thier optical propeties. However, sometimes only partial information about a given chemical is available. Fortunately, a tool named ChemDataExtractor uses natural language processing to mine user-specfied data from documents. ChemDataExtrator auto-generates a materials database of tens of thousands of chemicals with their paired optical properties information. The supercomputers are also auto-generating a large array of data on the chemicals to complement the experimental data collected by ChemDataExtrator. High-throughout density function theory and time-dependent density function theory are the basis of the quantum chemical calculations that generate these data. \n",
    "   \n",
    "   The second step is to mine the material database by embedding algorithms into the search engine and select a shost list of predicted dye molecules will then go forward experimental validation. Results from this dye will be fed back into the feedback loop, such that subsequent cycles of this discovery process can have better accuracy in prediction. "
   ]
  }
 ],
 "metadata": {
  "kernelspec": {
   "display_name": "Python 3",
   "language": "python",
   "name": "python3"
  },
  "language_info": {
   "codemirror_mode": {
    "name": "ipython",
    "version": 3
   },
   "file_extension": ".py",
   "mimetype": "text/x-python",
   "name": "python",
   "nbconvert_exporter": "python",
   "pygments_lexer": "ipython3",
   "version": "3.7.3"
  },
  "toc": {
   "base_numbering": 1,
   "nav_menu": {},
   "number_sections": true,
   "sideBar": true,
   "skip_h1_title": false,
   "title_cell": "Table of Contents",
   "title_sidebar": "Contents",
   "toc_cell": false,
   "toc_position": {},
   "toc_section_display": true,
   "toc_window_display": false
  },
  "varInspector": {
   "cols": {
    "lenName": 16,
    "lenType": 16,
    "lenVar": 40
   },
   "kernels_config": {
    "python": {
     "delete_cmd_postfix": "",
     "delete_cmd_prefix": "del ",
     "library": "var_list.py",
     "varRefreshCmd": "print(var_dic_list())"
    },
    "r": {
     "delete_cmd_postfix": ") ",
     "delete_cmd_prefix": "rm(",
     "library": "var_list.r",
     "varRefreshCmd": "cat(var_dic_list()) "
    }
   },
   "types_to_exclude": [
    "module",
    "function",
    "builtin_function_or_method",
    "instance",
    "_Feature"
   ],
   "window_display": false
  }
 },
 "nbformat": 4,
 "nbformat_minor": 2
}
